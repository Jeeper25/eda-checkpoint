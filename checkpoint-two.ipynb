{
 "cells": [
  {
   "cell_type": "markdown",
   "metadata": {
    "azdata_cell_guid": "151601c9-ca7a-412e-af80-c62a87e0837e"
   },
   "source": [
    "# Checkpoint Two: Exploratory Data Analysis\n",
    "\n",
    "Now that your chosen dataset is approved, it is time to start working on your analysis. Use this notebook to perform your EDA and make notes where directed to as you work.\n",
    "\n",
    "## Getting Started\n",
    "\n",
    "Since we have not provided your dataset for you, you will need to load the necessary files in this repository. Make sure to include a link back to the original dataset here as well.\n",
    "\n",
    "My dataset:\n",
    "\n",
    "Your first task in EDA is to import necessary libraries and create a dataframe(s). Make note in the form of code comments of what your thought process is as you work on this setup task."
   ]
  },
  {
   "cell_type": "code",
   "execution_count": 113,
   "metadata": {},
   "outputs": [],
   "source": [
    "#My objective: How many LRA owned properties in the city of St. Louis are sold and converted into\n",
    "#single family homes? Additionally - how many remain in disrepair and how many are\n",
    "#purchased by investors for other purposes?\n",
    "\n",
    "#To answer these questions, I'm analyzing several data sources - Property Sales, Occupancy Permits and Demolition Permits. "
   ]
  },
  {
   "cell_type": "code",
   "execution_count": 114,
   "metadata": {
    "azdata_cell_guid": "7b503e37-6df5-4433-acfb-678b1346db14"
   },
   "outputs": [],
   "source": [
    "import pandas as pd\n",
    "import numpy as np\n",
    "import seaborn as sns\n",
    "\n",
    "import matplotlib.pyplot as plt\n",
    "import matplotlib.pyplot as mlab\n",
    "import matplotlib\n",
    "plt.style.use('ggplot')\n",
    "import csv\n",
    "\n",
    "import mplcyberpunk\n",
    "plt.style.use('cyberpunk')"
   ]
  },
  {
   "cell_type": "code",
   "execution_count": 115,
   "metadata": {},
   "outputs": [],
   "source": [
    "#I ran into my first issue here. My data came from the St. Louis Regional Data Exchange and some of the \n",
    "#files were .mdb. Much Googling led me to the site https://www.mdbopener.com/ where I could convert to .csv\n",
    "\n",
    "# These are building permits found here https://www.stlouis-mo.gov/data/datasets/dataset.cfm?id=1\n",
    "building = pd.read_csv(\"building-permits-fields.csv\")\n",
    "        "
   ]
  },
  {
   "cell_type": "code",
   "execution_count": 116,
   "metadata": {},
   "outputs": [],
   "source": [
    "#Parcel Sales found here https://rdx.stldata.org/dataset/property-sales/resource/4f2d771f-1ee4-435b-8693-de85c10e2d8a\n",
    "sales = pd.read_csv(\"property-sales-fields.csv\")"
   ]
  },
  {
   "cell_type": "code",
   "execution_count": 117,
   "metadata": {},
   "outputs": [],
   "source": [
    "#I decided to focus only on the last 10 years for simplicity sake.\n",
    "# These are Occupancy Permits found here https://rdx.stldata.org/dataset/occupancy-permits\n",
    "twelve = pd.read_csv(\"2012.csv\")\n",
    "thirteen = pd.read_csv(\"2013.csv\")\n",
    "fourteen = pd.read_csv(\"2014.csv\")\n",
    "fifteen = pd.read_csv(\"2015.csv\")\n",
    "sixteen = pd.read_csv(\"2016.csv\")\n",
    "seventeen = pd.read_csv(\"2017.csv\")\n",
    "eighteen = pd.read_csv(\"2018.csv\") \n",
    "nineteen = pd.read_csv(\"2019.csv\")\n",
    "twenty = pd.read_csv(\"2020.csv\")\n",
    "twentyone = pd.read_csv(\"2021.csv\")\n",
    "twentytwo = pd.read_csv(\"2022.csv\")"
   ]
  },
  {
   "cell_type": "code",
   "execution_count": 118,
   "metadata": {},
   "outputs": [],
   "source": [
    "#Demolition Permits\n",
    "demo = pd.read_csv(\"demolition-permits-fields.csv\")"
   ]
  },
  {
   "cell_type": "code",
   "execution_count": 130,
   "metadata": {},
   "outputs": [],
   "source": [
    "#lra list found here https://rdx.stldata.org/dataset/lra-property/resource/6cd75ecb-94fa-4601-b598-19cf651ca544\n",
    "boardup = pd.read_csv(\"dbo_vw_boardup_public.csv\")\n",
    "public = pd.read_csv(\"dbo_vw_public_inventory.csv\")"
   ]
  },
  {
   "cell_type": "markdown",
   "metadata": {
    "azdata_cell_guid": "129ce836-524b-4ea8-b394-a959f9308d6a"
   },
   "source": [
    "## Get to Know the Numbers\n",
    "\n",
    "Now that you have everything setup, put any code that you use to get to know the dataframe and its rows and columns better in the cell below. You can use whatever techniques you like, except for visualizations. You will put those in a separate section.\n",
    "\n",
    "When working on your code, make sure to leave comments so that your mentors can understand your thought process."
   ]
  },
  {
   "cell_type": "code",
   "execution_count": 133,
   "metadata": {},
   "outputs": [
    {
     "data": {
      "text/plain": [
       "(<bound method DataFrame.info of        Record_No  Work_Ticket_No      Contract_Date    Completion_date  \\\n",
       " 0          29468               1  06/01/00 00:00:00  06/01/00 00:00:00   \n",
       " 1          36051               2  08/30/00 00:00:00  08/30/00 00:00:00   \n",
       " 2          39081               3  08/31/00 00:00:00  09/12/00 00:00:00   \n",
       " 3          37071               4  11/09/00 00:00:00  11/09/00 00:00:00   \n",
       " 4          39103              11  03/06/00 00:00:00  03/06/00 00:00:00   \n",
       " ...          ...             ...                ...                ...   \n",
       " 22794      46712           50364  08/17/17 00:00:00  08/17/17 00:00:00   \n",
       " 22795      49869           50437  09/13/17 00:00:00  09/14/17 00:00:00   \n",
       " 22796      49862           50438  09/13/17 00:00:00  09/14/17 00:00:00   \n",
       " 22797      47506           50439  09/13/17 00:00:00  09/14/17 00:00:00   \n",
       " 22798      49970           50481  09/20/17 00:00:00  09/21/17 00:00:00   \n",
       " \n",
       "          Assigned_to  Secure  Locks_Hasp Priority  \n",
       " 0      Board Up Crew       1           0      NaN  \n",
       " 1      Board Up Crew       1           0  Routine  \n",
       " 2      Board Up Crew       1           0      NaN  \n",
       " 3      Board Up Crew       1           0  Routine  \n",
       " 4      Board Up Crew       1           0      NaN  \n",
       " ...              ...     ...         ...      ...  \n",
       " 22794  Board Up Crew       1           0  Routine  \n",
       " 22795  Board Up Crew       0           0  Routine  \n",
       " 22796  Board Up Crew       1           0  Routine  \n",
       " 22797  Board Up Crew       1           0  Routine  \n",
       " 22798  Board Up Crew       1           0  Routine  \n",
       " \n",
       " [22799 rows x 8 columns]>,\n",
       " <bound method DataFrame.info of        Record_No       Handle     ParcelID  Address Add_Suffix Direction  \\\n",
       " 0          29063  10124000060   1240000300      715          R         N   \n",
       " 1          29064  10124000070   1240000700      713        NaN         N   \n",
       " 2          29065  10124000110   1240001100      609        NaN       NaN   \n",
       " 3          29066  10124000120   1240001200      611        NaN       NaN   \n",
       " 4          29067  10124000130   1240001300      615        NaN       NaN   \n",
       " ...          ...          ...          ...      ...        ...       ...   \n",
       " 11795      50010  15531000430  55310004300     5215        NaN       NaN   \n",
       " 11796      50011  15531000420  55310004200     5217        NaN       NaN   \n",
       " 11797      50012  15349000070  53490000700     5980        NaN       NaN   \n",
       " 11798      50013  10259000012   2590000120      911        NaN         N   \n",
       " 11799      50014  10259000011   2590000110      901        NaN       NaN   \n",
       " \n",
       "                         Name Type Class     Acquisition_dt  ...     CenterY  \\\n",
       " 0                        6TH   ST    AA                NaN  ...  1018909.36   \n",
       " 1                        6TH   ST    AA                NaN  ...  1018871.45   \n",
       " 2                      LUCAS   AV    AA                NaN  ...  1018816.43   \n",
       " 3                      LUCAS   AV    AA                NaN  ...  1018824.20   \n",
       " 4                      LUCAS   AV    AA                NaN  ...  1018831.08   \n",
       " ...                      ...  ...   ...                ...  ...         ...   \n",
       " 11795                 BEACON   AV     A  08/09/17 00:00:00  ...         NaN   \n",
       " 11796                 BEACON   AV     A  08/09/17 00:00:00  ...         NaN   \n",
       " 11797               THEODORE   AV     A  08/10/17 00:00:00  ...         NaN   \n",
       " 11798                    9TH   ST   NaN  09/20/17 00:00:00  ...         NaN   \n",
       " 11799  DR MARTIN LUTHER KING   DR   NaN  09/20/17 00:00:00  ...         NaN   \n",
       " \n",
       "        Value  Value_Estimated  Value_Est_Dt       Entered_Date        Usage  \\\n",
       " 0        NaN                0           NaN  10/20/88 00:00:00      Parking   \n",
       " 1        NaN                0           NaN  03/11/91 00:00:00      Parking   \n",
       " 2        NaN                0           NaN  10/20/88 00:00:00      Parking   \n",
       " 3        NaN                0           NaN  10/20/88 00:00:00      Parking   \n",
       " 4        NaN                0           NaN  10/20/88 00:00:00      Parking   \n",
       " ...      ...              ...           ...                ...          ...   \n",
       " 11795    NaN                0           NaN  08/25/17 00:00:00  Residential   \n",
       " 11796    NaN                0           NaN  08/25/17 00:00:00  Residential   \n",
       " 11797    NaN                0           NaN  08/25/17 00:00:00  Residential   \n",
       " 11798    NaN                0           NaN  09/21/17 00:00:00      Parking   \n",
       " 11799    NaN                0           NaN  09/21/17 00:00:00      Parking   \n",
       " \n",
       "             Cost  Property_Source Purchase_Type  Parcel_Status  \n",
       " 0            0.0             LCRA           NaN    Unavailable  \n",
       " 1            0.0             LCRA           NaN    Unavailable  \n",
       " 2            0.0             LCRA           NaN    Unavailable  \n",
       " 3            0.0             LCRA           NaN    Unavailable  \n",
       " 4            0.0             LCRA           NaN    Unavailable  \n",
       " ...          ...              ...           ...            ...  \n",
       " 11795        NaN        Donations           NaN      Available  \n",
       " 11796        NaN        Donations           NaN      Available  \n",
       " 11797        NaN        Donations           NaN      Available  \n",
       " 11798  7500000.0             LCRA           NaN          Lease  \n",
       " 11799        NaN             LCRA           NaN          Lease  \n",
       " \n",
       " [11800 rows x 21 columns]>)"
      ]
     },
     "execution_count": 133,
     "metadata": {},
     "output_type": "execute_result"
    }
   ],
   "source": [
    "boardup.columns, public.columns\n",
    "boardup.info, public.info"
   ]
  },
  {
   "cell_type": "code",
   "execution_count": 77,
   "metadata": {},
   "outputs": [
    {
     "data": {
      "text/plain": [
       "Index(['DATAFORMAT', 'DATASETID', 'DATATYPEID', 'DESCRIPTION',\n",
       "       'DISTRIBUTIONID', 'LABEL', 'NAME', 'VOCABULARYID'],\n",
       "      dtype='object')"
      ]
     },
     "execution_count": 77,
     "metadata": {},
     "output_type": "execute_result"
    }
   ],
   "source": [
    "sales.columns"
   ]
  },
  {
   "cell_type": "code",
   "execution_count": 73,
   "metadata": {},
   "outputs": [
    {
     "data": {
      "text/plain": [
       "Index(['DATAFORMAT', 'DATASETID', 'DATATYPEID', 'DESCRIPTION',\n",
       "       'DISTRIBUTIONID', 'LABEL', 'NAME', 'VOCABULARYID'],\n",
       "      dtype='object')"
      ]
     },
     "execution_count": 73,
     "metadata": {},
     "output_type": "execute_result"
    }
   ],
   "source": [
    "sales.columns"
   ]
  },
  {
   "cell_type": "code",
   "execution_count": 64,
   "metadata": {},
   "outputs": [
    {
     "data": {
      "text/plain": [
       "(          Record_No  Work_Ticket_No        Secure    Locks_Hasp\n",
       " count  22799.000000    22799.000000  22799.000000  22799.000000\n",
       " mean   41512.925216    26020.046099      0.924602      0.284135\n",
       " std     4592.588723    14141.444660      0.264038      0.451011\n",
       " min    29112.000000        1.000000      0.000000      0.000000\n",
       " 25%    38835.000000    14220.500000      1.000000      0.000000\n",
       " 50%    41509.000000    27462.000000      1.000000      0.000000\n",
       " 75%    44985.500000    38536.500000      1.000000      1.000000\n",
       " max    50006.000000    50481.000000      1.000000      1.000000,\n",
       "           Record_No        Handle      ParcelID       Address        CenterX  \\\n",
       " count  11800.000000  1.180000e+04  1.180000e+04  11800.000000    6893.000000   \n",
       " mean   41084.274407  1.383272e+10  3.831837e+10   3944.195085  573656.263752   \n",
       " std     5835.628602  1.269665e+09  1.271234e+10   1536.756226   13958.096178   \n",
       " min    29063.000000  1.001700e+10  9.320022e+07      0.000000       0.000000   \n",
       " 25%    35898.750000  1.339600e+10  3.396000e+10   2903.750000  568822.870000   \n",
       " 50%    41800.500000  1.378100e+10  3.781000e+10   4220.000000  573893.980000   \n",
       " 75%    46257.250000  1.482928e+10  4.829280e+10   5040.000000  579458.930000   \n",
       " max    50014.000000  1.999900e+10  9.999000e+10   9911.000000  590932.540000   \n",
       " \n",
       "             CenterY         Value  Value_Estimated          Cost  \\\n",
       " count  6.893000e+03   2834.000000     11800.000000  6.992000e+03   \n",
       " mean   1.030208e+06     55.670078         0.159831  2.142178e+03   \n",
       " std    2.303568e+04    385.489802         0.366464  9.038788e+04   \n",
       " min    0.000000e+00      0.000000         0.000000  0.000000e+00   \n",
       " 25%    1.027946e+06      0.000000         0.000000  0.000000e+00   \n",
       " 50%    1.031133e+06      0.000000         0.000000  0.000000e+00   \n",
       " 75%    1.034356e+06      0.000000         0.000000  0.000000e+00   \n",
       " max    1.053186e+06  10000.000000         1.000000  7.500000e+06   \n",
       " \n",
       "        Purchase_Type  \n",
       " count            0.0  \n",
       " mean             NaN  \n",
       " std              NaN  \n",
       " min              NaN  \n",
       " 25%              NaN  \n",
       " 50%              NaN  \n",
       " 75%              NaN  \n",
       " max              NaN  )"
      ]
     },
     "execution_count": 64,
     "metadata": {},
     "output_type": "execute_result"
    }
   ],
   "source": [
    "boardup.describe(), public.describe()"
   ]
  },
  {
   "cell_type": "code",
   "execution_count": 65,
   "metadata": {},
   "outputs": [
    {
     "data": {
      "text/plain": [
       "Record_No         41512.925216\n",
       "Work_Ticket_No    26020.046099\n",
       "Secure                0.924602\n",
       "Locks_Hasp            0.284135\n",
       "dtype: float64"
      ]
     },
     "execution_count": 65,
     "metadata": {},
     "output_type": "execute_result"
    }
   ],
   "source": [
    "boardup.mean()"
   ]
  },
  {
   "cell_type": "code",
   "execution_count": 60,
   "metadata": {},
   "outputs": [
    {
     "name": "stdout",
     "output_type": "stream",
     "text": [
      "<class 'pandas.core.frame.DataFrame'>\n",
      "RangeIndex: 5 entries, 0 to 4\n",
      "Data columns (total 8 columns):\n",
      " #   Column          Non-Null Count  Dtype  \n",
      "---  ------          --------------  -----  \n",
      " 0   DATAFORMAT      0 non-null      float64\n",
      " 1   DATASETID       5 non-null      int64  \n",
      " 2   DATATYPEID      5 non-null      int64  \n",
      " 3   DESCRIPTION     3 non-null      object \n",
      " 4   DISTRIBUTIONID  5 non-null      int64  \n",
      " 5   LABEL           1 non-null      object \n",
      " 6   NAME            5 non-null      object \n",
      " 7   VOCABULARYID    5 non-null      int64  \n",
      "dtypes: float64(1), int64(4), object(3)\n",
      "memory usage: 448.0+ bytes\n"
     ]
    }
   ],
   "source": [
    "sales.info()"
   ]
  },
  {
   "cell_type": "code",
   "execution_count": 59,
   "metadata": {},
   "outputs": [
    {
     "name": "stdout",
     "output_type": "stream",
     "text": [
      "<class 'pandas.core.frame.DataFrame'>\n",
      "RangeIndex: 79 entries, 0 to 78\n",
      "Data columns (total 8 columns):\n",
      " #   Column          Non-Null Count  Dtype  \n",
      "---  ------          --------------  -----  \n",
      " 0   DATAFORMAT      0 non-null      float64\n",
      " 1   DATASETID       79 non-null     int64  \n",
      " 2   DATATYPEID      79 non-null     int64  \n",
      " 3   DESCRIPTION     79 non-null     object \n",
      " 4   DISTRIBUTIONID  79 non-null     int64  \n",
      " 5   LABEL           79 non-null     object \n",
      " 6   NAME            79 non-null     object \n",
      " 7   VOCABULARYID    79 non-null     int64  \n",
      "dtypes: float64(1), int64(4), object(3)\n",
      "memory usage: 5.1+ KB\n"
     ]
    }
   ],
   "source": [
    "building.info()"
   ]
  },
  {
   "cell_type": "code",
   "execution_count": 63,
   "metadata": {},
   "outputs": [
    {
     "data": {
      "text/html": [
       "<div>\n",
       "<style scoped>\n",
       "    .dataframe tbody tr th:only-of-type {\n",
       "        vertical-align: middle;\n",
       "    }\n",
       "\n",
       "    .dataframe tbody tr th {\n",
       "        vertical-align: top;\n",
       "    }\n",
       "\n",
       "    .dataframe thead th {\n",
       "        text-align: right;\n",
       "    }\n",
       "</style>\n",
       "<table border=\"1\" class=\"dataframe\">\n",
       "  <thead>\n",
       "    <tr style=\"text-align: right;\">\n",
       "      <th></th>\n",
       "      <th>DATAFORMAT</th>\n",
       "      <th>DATASETID</th>\n",
       "      <th>DATATYPEID</th>\n",
       "      <th>DISTRIBUTIONID</th>\n",
       "      <th>VOCABULARYID</th>\n",
       "    </tr>\n",
       "  </thead>\n",
       "  <tbody>\n",
       "    <tr>\n",
       "      <th>count</th>\n",
       "      <td>0.0</td>\n",
       "      <td>79.0</td>\n",
       "      <td>79.000000</td>\n",
       "      <td>79.0</td>\n",
       "      <td>79.000000</td>\n",
       "    </tr>\n",
       "    <tr>\n",
       "      <th>mean</th>\n",
       "      <td>NaN</td>\n",
       "      <td>1.0</td>\n",
       "      <td>110.075949</td>\n",
       "      <td>0.0</td>\n",
       "      <td>2.455696</td>\n",
       "    </tr>\n",
       "    <tr>\n",
       "      <th>std</th>\n",
       "      <td>NaN</td>\n",
       "      <td>0.0</td>\n",
       "      <td>1.906616</td>\n",
       "      <td>0.0</td>\n",
       "      <td>5.826107</td>\n",
       "    </tr>\n",
       "    <tr>\n",
       "      <th>min</th>\n",
       "      <td>NaN</td>\n",
       "      <td>1.0</td>\n",
       "      <td>109.000000</td>\n",
       "      <td>0.0</td>\n",
       "      <td>0.000000</td>\n",
       "    </tr>\n",
       "    <tr>\n",
       "      <th>25%</th>\n",
       "      <td>NaN</td>\n",
       "      <td>1.0</td>\n",
       "      <td>109.000000</td>\n",
       "      <td>0.0</td>\n",
       "      <td>0.000000</td>\n",
       "    </tr>\n",
       "    <tr>\n",
       "      <th>50%</th>\n",
       "      <td>NaN</td>\n",
       "      <td>1.0</td>\n",
       "      <td>109.000000</td>\n",
       "      <td>0.0</td>\n",
       "      <td>0.000000</td>\n",
       "    </tr>\n",
       "    <tr>\n",
       "      <th>75%</th>\n",
       "      <td>NaN</td>\n",
       "      <td>1.0</td>\n",
       "      <td>110.000000</td>\n",
       "      <td>0.0</td>\n",
       "      <td>0.000000</td>\n",
       "    </tr>\n",
       "    <tr>\n",
       "      <th>max</th>\n",
       "      <td>NaN</td>\n",
       "      <td>1.0</td>\n",
       "      <td>115.000000</td>\n",
       "      <td>0.0</td>\n",
       "      <td>17.000000</td>\n",
       "    </tr>\n",
       "  </tbody>\n",
       "</table>\n",
       "</div>"
      ],
      "text/plain": [
       "       DATAFORMAT  DATASETID  DATATYPEID  DISTRIBUTIONID  VOCABULARYID\n",
       "count         0.0       79.0   79.000000            79.0     79.000000\n",
       "mean          NaN        1.0  110.075949             0.0      2.455696\n",
       "std           NaN        0.0    1.906616             0.0      5.826107\n",
       "min           NaN        1.0  109.000000             0.0      0.000000\n",
       "25%           NaN        1.0  109.000000             0.0      0.000000\n",
       "50%           NaN        1.0  109.000000             0.0      0.000000\n",
       "75%           NaN        1.0  110.000000             0.0      0.000000\n",
       "max           NaN        1.0  115.000000             0.0     17.000000"
      ]
     },
     "execution_count": 63,
     "metadata": {},
     "output_type": "execute_result"
    }
   ],
   "source": [
    "building.describe()"
   ]
  },
  {
   "cell_type": "code",
   "execution_count": 85,
   "metadata": {},
   "outputs": [
    {
     "data": {
      "text/plain": [
       "<bound method DataFrame.info of       ADDRADJUSTED  ADDRNUM ADDRSUF                APPDATE  \\\n",
       "0                0     8459          2012-01-03 00:00:00.0   \n",
       "1                0     2847          2012-01-03 00:00:00.0   \n",
       "2                0     2218          2012-01-04 00:00:00.0   \n",
       "3                0     3270          2012-01-04 00:00:00.0   \n",
       "4                0     3010          2012-01-04 00:00:00.0   \n",
       "...            ...      ...     ...                    ...   \n",
       "2069             0     5860          2012-12-28 00:00:00.0   \n",
       "2070             0     5027          2012-12-28 00:00:00.0   \n",
       "2071             0      835          2012-12-28 00:00:00.0   \n",
       "2072             0      200          2012-12-31 00:00:00.0   \n",
       "2073             0     4127          2012-12-31 00:00:00.0   \n",
       "\n",
       "                                         APPDESCRIPTION  APPNUM APPTYPE  \\\n",
       "0                           SINGLE FAMILY ( SECTION 8 )  495427      AO   \n",
       "1                      BOOKSTORE 1ST FL , 2ND FL OFFICE  495437      AO   \n",
       "2                       WEB DESIGN & DEVELOPMENT OFFICE  495445      AO   \n",
       "3                 OFFICE SPACE (REAL ESTATE)  SUITE 100  495446      AO   \n",
       "4                                 OFFICE SPACE -STE 100  495448      AO   \n",
       "...                                                 ...     ...     ...   \n",
       "2069                                                NaN  503416      AO   \n",
       "2070  ALCOHOL/DRUG REHAB CTR/(1STFL 8 BEDS 12-19YRS/...  500159      AO   \n",
       "2071                      OFFICE (3RD FL LAB SOUTH) PMT  502256      AO   \n",
       "2072  FULL DRINK RESTAURANT/ BAR W/SIDEWALK SEATING ...  500085      AO   \n",
       "2073                          SINGLE FAMILY - SECTION 8  503417      AO   \n",
       "\n",
       "      ASRNBRHD             CANCELDATE CANCELTYPE  ...     STNAME STRUCTYPE1  \\\n",
       "0          334                    NaN        NaN  ...    CONCORD          1   \n",
       "1          142                    NaN        NaN  ...   CHEROKEE         20   \n",
       "2          146                    NaN        NaN  ...   CHEROKEE         20   \n",
       "3          119                    NaN        NaN  ...    HAMPTON         20   \n",
       "4          255                    NaN        NaN  ...     LOCUST         20   \n",
       "...        ...                    ...        ...  ...        ...        ...   \n",
       "2069       347                    NaN        NaN  ...  ROOSEVELT          0   \n",
       "2070       216  2017-12-28 00:00:00.0        NaN  ...   NORTHRUP         20   \n",
       "2071       265                    NaN        NaN  ...   CHOUTEAU         20   \n",
       "2072       262                    NaN        NaN  ...       13TH         20   \n",
       "2073       305                    NaN        NaN  ...    PENROSE          1   \n",
       "\n",
       "     STRUCTYPE2 STRUCTYPE3 STTYPE  TMPCITYBLOCK  TMPPARCEL  UNITNUM  \\\n",
       "0             0          0     PL       5636.00        270            \n",
       "1             0          0     ST       1510.00        390            \n",
       "2             0          0     ST       1558.00        306            \n",
       "3             0          0     AV       4757.03         35            \n",
       "4             0          0     ST       1021.03       8062            \n",
       "...         ...        ...    ...           ...        ...      ...   \n",
       "2069          0          0     PL       6098.00         90            \n",
       "2070          0          0     AV       3998.22         35            \n",
       "2071          0          0     AV        421.00         20            \n",
       "2072          0          0     ST        504.00         11            \n",
       "2073          0          0     ST       3566.00        260            \n",
       "\n",
       "      UPDATEGEO WARD00  \n",
       "0           NaN    NaN  \n",
       "1           NaN    NaN  \n",
       "2           NaN    NaN  \n",
       "3           NaN    NaN  \n",
       "4           NaN    NaN  \n",
       "...         ...    ...  \n",
       "2069        NaN    NaN  \n",
       "2070        NaN    NaN  \n",
       "2071        NaN    NaN  \n",
       "2072        NaN    NaN  \n",
       "2073        NaN    NaN  \n",
       "\n",
       "[2074 rows x 63 columns]>"
      ]
     },
     "execution_count": 85,
     "metadata": {},
     "output_type": "execute_result"
    }
   ],
   "source": [
    "#This is a basic look at the occupany permits issued in year 2012, I can see things like description: single family, city block, parcel ID, etc.\n",
    "twelve.info"
   ]
  },
  {
   "cell_type": "code",
   "execution_count": 94,
   "metadata": {},
   "outputs": [
    {
     "data": {
      "text/plain": [
       "Index(['ADDRADJUSTED', 'ADDRNUM', 'ADDRSUF', 'APPDATE', 'APPDESCRIPTION',\n",
       "       'APPNUM', 'APPTYPE', 'ASRNBRHD', 'CANCELDATE', 'CANCELTYPE',\n",
       "       'CAREOFADDR', 'CAREOFCITY', 'CAREOFNAME', 'CAREOFSTATE', 'CAREOFZIP',\n",
       "       'CDADIST', 'CDASUBDIST', 'CENSBLOCK00', 'CITYBLOCK', 'COMPLETEDATE',\n",
       "       'ESTPROJECTCOST', 'FIRSTDATE', 'GEOCITYBLOCKPART', 'HANDLE',\n",
       "       'ISSUEDATE', 'LASTDATE', 'MAINSTRUCTYPE', 'NBRHD', 'NBROFUNITS',\n",
       "       'NEWUSE', 'NEWUSEGROUP1', 'NEWUSEGROUP2', 'NEWUSEGROUP3', 'NLC',\n",
       "       'OCCNAME', 'OLDUSE', 'OLDUSEGROUP1', 'OLDUSEGROUP2', 'OLDUSEGROUP3',\n",
       "       'OWNERADDR', 'OWNERCITY', 'OWNERCODE', 'OWNERNAME', 'OWNERSTATE',\n",
       "       'OWNERZIP', 'PARCEL', 'PARCEL9', 'PARITY', 'POLICEDIST', 'PRCLERR',\n",
       "       'PRECINCT02', 'PROJECTTYPE', 'STDIR', 'STNAME', 'STRUCTYPE1',\n",
       "       'STRUCTYPE2', 'STRUCTYPE3', 'STTYPE', 'TMPCITYBLOCK', 'TMPPARCEL',\n",
       "       'UNITNUM', 'UPDATEGEO', 'WARD00'],\n",
       "      dtype='object')"
      ]
     },
     "execution_count": 94,
     "metadata": {},
     "output_type": "execute_result"
    }
   ],
   "source": [
    "#What are the columns in the various occupancy permit years?\n",
    "twelve.columns"
   ]
  },
  {
   "cell_type": "code",
   "execution_count": 155,
   "metadata": {},
   "outputs": [
    {
     "data": {
      "text/plain": [
       "(2074, 2077, 2156, 1881)"
      ]
     },
     "execution_count": 155,
     "metadata": {},
     "output_type": "execute_result"
    }
   ],
   "source": [
    "#How many occupancy permit applications were there each year?\n",
    "twelve[\"APPNUM\"].count(), thirteen[\"APPNUM\"].count(), fourteen[\"APPNUM\"].count(), fifteen[\"APPNUM\"].count(), "
   ]
  },
  {
   "cell_type": "code",
   "execution_count": 157,
   "metadata": {},
   "outputs": [
    {
     "data": {
      "text/plain": [
       "(1766, 2050, 2222, 2148)"
      ]
     },
     "execution_count": 157,
     "metadata": {},
     "output_type": "execute_result"
    }
   ],
   "source": [
    "sixteen[\"APPNUM\"].count(), seventeen[\"APPNUM\"].count(), eighteen[\"APPNUM\"].count(), nineteen[\"APPNUM\"].count(), \n"
   ]
  },
  {
   "cell_type": "code",
   "execution_count": 158,
   "metadata": {},
   "outputs": [
    {
     "data": {
      "text/plain": [
       "(1955, 1968, 129)"
      ]
     },
     "execution_count": 158,
     "metadata": {},
     "output_type": "execute_result"
    }
   ],
   "source": [
    "twenty[\"APPNUM\"].count(), twentyone[\"APPNUM\"].count(), twentytwo[\"APPNUM\"].count()"
   ]
  },
  {
   "cell_type": "code",
   "execution_count": 97,
   "metadata": {},
   "outputs": [
    {
     "data": {
      "text/plain": [
       "Index(['Record_No', 'Handle', 'ParcelID', 'Address', 'Add_Suffix', 'Direction',\n",
       "       'Name', 'Type', 'Class', 'Acquisition_dt', 'CenterX', 'CenterY',\n",
       "       'Value', 'Value_Estimated', 'Value_Est_Dt', 'Entered_Date', 'Usage',\n",
       "       'Cost', 'Property_Source', 'Purchase_Type', 'Parcel_Status'],\n",
       "      dtype='object')"
      ]
     },
     "execution_count": 97,
     "metadata": {},
     "output_type": "execute_result"
    }
   ],
   "source": [
    "#What are the columns in the LRA public records list?\n",
    "public.columns"
   ]
  },
  {
   "cell_type": "code",
   "execution_count": 108,
   "metadata": {},
   "outputs": [
    {
     "data": {
      "text/html": [
       "<div>\n",
       "<style scoped>\n",
       "    .dataframe tbody tr th:only-of-type {\n",
       "        vertical-align: middle;\n",
       "    }\n",
       "\n",
       "    .dataframe tbody tr th {\n",
       "        vertical-align: top;\n",
       "    }\n",
       "\n",
       "    .dataframe thead th {\n",
       "        text-align: right;\n",
       "    }\n",
       "</style>\n",
       "<table border=\"1\" class=\"dataframe\">\n",
       "  <thead>\n",
       "    <tr style=\"text-align: right;\">\n",
       "      <th></th>\n",
       "      <th>Value_Estimated</th>\n",
       "    </tr>\n",
       "  </thead>\n",
       "  <tbody>\n",
       "    <tr>\n",
       "      <th>count</th>\n",
       "      <td>11800.000000</td>\n",
       "    </tr>\n",
       "    <tr>\n",
       "      <th>mean</th>\n",
       "      <td>0.159831</td>\n",
       "    </tr>\n",
       "    <tr>\n",
       "      <th>std</th>\n",
       "      <td>0.366464</td>\n",
       "    </tr>\n",
       "    <tr>\n",
       "      <th>min</th>\n",
       "      <td>0.000000</td>\n",
       "    </tr>\n",
       "    <tr>\n",
       "      <th>25%</th>\n",
       "      <td>0.000000</td>\n",
       "    </tr>\n",
       "    <tr>\n",
       "      <th>50%</th>\n",
       "      <td>0.000000</td>\n",
       "    </tr>\n",
       "    <tr>\n",
       "      <th>75%</th>\n",
       "      <td>0.000000</td>\n",
       "    </tr>\n",
       "    <tr>\n",
       "      <th>max</th>\n",
       "      <td>1.000000</td>\n",
       "    </tr>\n",
       "  </tbody>\n",
       "</table>\n",
       "</div>"
      ],
      "text/plain": [
       "       Value_Estimated\n",
       "count     11800.000000\n",
       "mean          0.159831\n",
       "std           0.366464\n",
       "min           0.000000\n",
       "25%           0.000000\n",
       "50%           0.000000\n",
       "75%           0.000000\n",
       "max           1.000000"
      ]
     },
     "execution_count": 108,
     "metadata": {},
     "output_type": "execute_result"
    }
   ],
   "source": [
    "public[[\"Parcel_Status\"]].describe()"
   ]
  },
  {
   "cell_type": "code",
   "execution_count": 109,
   "metadata": {},
   "outputs": [
    {
     "data": {
      "text/html": [
       "<div>\n",
       "<style scoped>\n",
       "    .dataframe tbody tr th:only-of-type {\n",
       "        vertical-align: middle;\n",
       "    }\n",
       "\n",
       "    .dataframe tbody tr th {\n",
       "        vertical-align: top;\n",
       "    }\n",
       "\n",
       "    .dataframe thead th {\n",
       "        text-align: right;\n",
       "    }\n",
       "</style>\n",
       "<table border=\"1\" class=\"dataframe\">\n",
       "  <thead>\n",
       "    <tr style=\"text-align: right;\">\n",
       "      <th></th>\n",
       "      <th>Value_Estimated</th>\n",
       "    </tr>\n",
       "  </thead>\n",
       "  <tbody>\n",
       "    <tr>\n",
       "      <th>count</th>\n",
       "      <td>11800.000000</td>\n",
       "    </tr>\n",
       "    <tr>\n",
       "      <th>mean</th>\n",
       "      <td>0.159831</td>\n",
       "    </tr>\n",
       "    <tr>\n",
       "      <th>std</th>\n",
       "      <td>0.366464</td>\n",
       "    </tr>\n",
       "    <tr>\n",
       "      <th>min</th>\n",
       "      <td>0.000000</td>\n",
       "    </tr>\n",
       "    <tr>\n",
       "      <th>25%</th>\n",
       "      <td>0.000000</td>\n",
       "    </tr>\n",
       "    <tr>\n",
       "      <th>50%</th>\n",
       "      <td>0.000000</td>\n",
       "    </tr>\n",
       "    <tr>\n",
       "      <th>75%</th>\n",
       "      <td>0.000000</td>\n",
       "    </tr>\n",
       "    <tr>\n",
       "      <th>max</th>\n",
       "      <td>1.000000</td>\n",
       "    </tr>\n",
       "  </tbody>\n",
       "</table>\n",
       "</div>"
      ],
      "text/plain": [
       "       Value_Estimated\n",
       "count     11800.000000\n",
       "mean          0.159831\n",
       "std           0.366464\n",
       "min           0.000000\n",
       "25%           0.000000\n",
       "50%           0.000000\n",
       "75%           0.000000\n",
       "max           1.000000"
      ]
     },
     "execution_count": 109,
     "metadata": {},
     "output_type": "execute_result"
    }
   ],
   "source": [
    "public[[\"Value_Estimated\"]].describe()"
   ]
  },
  {
   "cell_type": "code",
   "execution_count": 172,
   "metadata": {},
   "outputs": [
    {
     "data": {
      "text/html": [
       "<div>\n",
       "<style scoped>\n",
       "    .dataframe tbody tr th:only-of-type {\n",
       "        vertical-align: middle;\n",
       "    }\n",
       "\n",
       "    .dataframe tbody tr th {\n",
       "        vertical-align: top;\n",
       "    }\n",
       "\n",
       "    .dataframe thead th {\n",
       "        text-align: right;\n",
       "    }\n",
       "</style>\n",
       "<table border=\"1\" class=\"dataframe\">\n",
       "  <thead>\n",
       "    <tr style=\"text-align: right;\">\n",
       "      <th></th>\n",
       "      <th>ADDRADJUSTED</th>\n",
       "      <th>ADDRNUM</th>\n",
       "      <th>ADDRSUF</th>\n",
       "      <th>APPDATE</th>\n",
       "      <th>APPDESCRIPTION</th>\n",
       "      <th>APPNUM</th>\n",
       "      <th>APPTYPE</th>\n",
       "      <th>ASRNBRHD</th>\n",
       "      <th>CANCELDATE</th>\n",
       "      <th>CANCELTYPE</th>\n",
       "      <th>...</th>\n",
       "      <th>STNAME</th>\n",
       "      <th>STRUCTYPE1</th>\n",
       "      <th>STRUCTYPE2</th>\n",
       "      <th>STRUCTYPE3</th>\n",
       "      <th>STTYPE</th>\n",
       "      <th>TMPCITYBLOCK</th>\n",
       "      <th>TMPPARCEL</th>\n",
       "      <th>UNITNUM</th>\n",
       "      <th>UPDATEGEO</th>\n",
       "      <th>WARD00</th>\n",
       "    </tr>\n",
       "  </thead>\n",
       "  <tbody>\n",
       "    <tr>\n",
       "      <th>0</th>\n",
       "      <td>0</td>\n",
       "      <td>8459</td>\n",
       "      <td></td>\n",
       "      <td>2012-01-03 00:00:00.0</td>\n",
       "      <td>SINGLE FAMILY ( SECTION 8 )</td>\n",
       "      <td>495427</td>\n",
       "      <td>AO</td>\n",
       "      <td>334</td>\n",
       "      <td>NaN</td>\n",
       "      <td>NaN</td>\n",
       "      <td>...</td>\n",
       "      <td>CONCORD</td>\n",
       "      <td>1</td>\n",
       "      <td>0</td>\n",
       "      <td>0</td>\n",
       "      <td>PL</td>\n",
       "      <td>5636.00</td>\n",
       "      <td>270</td>\n",
       "      <td></td>\n",
       "      <td>NaN</td>\n",
       "      <td>NaN</td>\n",
       "    </tr>\n",
       "    <tr>\n",
       "      <th>1</th>\n",
       "      <td>0</td>\n",
       "      <td>2847</td>\n",
       "      <td></td>\n",
       "      <td>2012-01-03 00:00:00.0</td>\n",
       "      <td>BOOKSTORE 1ST FL , 2ND FL OFFICE</td>\n",
       "      <td>495437</td>\n",
       "      <td>AO</td>\n",
       "      <td>142</td>\n",
       "      <td>NaN</td>\n",
       "      <td>NaN</td>\n",
       "      <td>...</td>\n",
       "      <td>CHEROKEE</td>\n",
       "      <td>20</td>\n",
       "      <td>0</td>\n",
       "      <td>0</td>\n",
       "      <td>ST</td>\n",
       "      <td>1510.00</td>\n",
       "      <td>390</td>\n",
       "      <td></td>\n",
       "      <td>NaN</td>\n",
       "      <td>NaN</td>\n",
       "    </tr>\n",
       "    <tr>\n",
       "      <th>2</th>\n",
       "      <td>0</td>\n",
       "      <td>2218</td>\n",
       "      <td></td>\n",
       "      <td>2012-01-04 00:00:00.0</td>\n",
       "      <td>WEB DESIGN &amp; DEVELOPMENT OFFICE</td>\n",
       "      <td>495445</td>\n",
       "      <td>AO</td>\n",
       "      <td>146</td>\n",
       "      <td>NaN</td>\n",
       "      <td>NaN</td>\n",
       "      <td>...</td>\n",
       "      <td>CHEROKEE</td>\n",
       "      <td>20</td>\n",
       "      <td>0</td>\n",
       "      <td>0</td>\n",
       "      <td>ST</td>\n",
       "      <td>1558.00</td>\n",
       "      <td>306</td>\n",
       "      <td></td>\n",
       "      <td>NaN</td>\n",
       "      <td>NaN</td>\n",
       "    </tr>\n",
       "    <tr>\n",
       "      <th>3</th>\n",
       "      <td>0</td>\n",
       "      <td>3270</td>\n",
       "      <td></td>\n",
       "      <td>2012-01-04 00:00:00.0</td>\n",
       "      <td>OFFICE SPACE (REAL ESTATE)  SUITE 100</td>\n",
       "      <td>495446</td>\n",
       "      <td>AO</td>\n",
       "      <td>119</td>\n",
       "      <td>NaN</td>\n",
       "      <td>NaN</td>\n",
       "      <td>...</td>\n",
       "      <td>HAMPTON</td>\n",
       "      <td>20</td>\n",
       "      <td>0</td>\n",
       "      <td>0</td>\n",
       "      <td>AV</td>\n",
       "      <td>4757.03</td>\n",
       "      <td>35</td>\n",
       "      <td></td>\n",
       "      <td>NaN</td>\n",
       "      <td>NaN</td>\n",
       "    </tr>\n",
       "    <tr>\n",
       "      <th>4</th>\n",
       "      <td>0</td>\n",
       "      <td>3010</td>\n",
       "      <td></td>\n",
       "      <td>2012-01-04 00:00:00.0</td>\n",
       "      <td>OFFICE SPACE -STE 100</td>\n",
       "      <td>495448</td>\n",
       "      <td>AO</td>\n",
       "      <td>255</td>\n",
       "      <td>NaN</td>\n",
       "      <td>NaN</td>\n",
       "      <td>...</td>\n",
       "      <td>LOCUST</td>\n",
       "      <td>20</td>\n",
       "      <td>0</td>\n",
       "      <td>0</td>\n",
       "      <td>ST</td>\n",
       "      <td>1021.03</td>\n",
       "      <td>8062</td>\n",
       "      <td></td>\n",
       "      <td>NaN</td>\n",
       "      <td>NaN</td>\n",
       "    </tr>\n",
       "    <tr>\n",
       "      <th>...</th>\n",
       "      <td>...</td>\n",
       "      <td>...</td>\n",
       "      <td>...</td>\n",
       "      <td>...</td>\n",
       "      <td>...</td>\n",
       "      <td>...</td>\n",
       "      <td>...</td>\n",
       "      <td>...</td>\n",
       "      <td>...</td>\n",
       "      <td>...</td>\n",
       "      <td>...</td>\n",
       "      <td>...</td>\n",
       "      <td>...</td>\n",
       "      <td>...</td>\n",
       "      <td>...</td>\n",
       "      <td>...</td>\n",
       "      <td>...</td>\n",
       "      <td>...</td>\n",
       "      <td>...</td>\n",
       "      <td>...</td>\n",
       "      <td>...</td>\n",
       "    </tr>\n",
       "    <tr>\n",
       "      <th>20421</th>\n",
       "      <td>0</td>\n",
       "      <td>1401</td>\n",
       "      <td>NaN</td>\n",
       "      <td>2022-01-28 00:00:00.0</td>\n",
       "      <td>CHURCH</td>\n",
       "      <td>7579</td>\n",
       "      <td>AO</td>\n",
       "      <td>238</td>\n",
       "      <td>NaN</td>\n",
       "      <td>NaN</td>\n",
       "      <td>...</td>\n",
       "      <td>KINGSHIGHWAY</td>\n",
       "      <td>0</td>\n",
       "      <td>0</td>\n",
       "      <td>0</td>\n",
       "      <td>BLVD</td>\n",
       "      <td>3789.00</td>\n",
       "      <td>260</td>\n",
       "      <td></td>\n",
       "      <td>2022-01-28 00:00:00.0</td>\n",
       "      <td>NaN</td>\n",
       "    </tr>\n",
       "    <tr>\n",
       "      <th>20422</th>\n",
       "      <td>0</td>\n",
       "      <td>826</td>\n",
       "      <td>NaN</td>\n",
       "      <td>2022-01-28 00:00:00.0</td>\n",
       "      <td>OFFICE SPACE USED FOR HOME HEALTH CARE.</td>\n",
       "      <td>7580</td>\n",
       "      <td>AO</td>\n",
       "      <td>238</td>\n",
       "      <td>NaN</td>\n",
       "      <td>NaN</td>\n",
       "      <td>...</td>\n",
       "      <td>UNION</td>\n",
       "      <td>0</td>\n",
       "      <td>0</td>\n",
       "      <td>0</td>\n",
       "      <td>BLVD</td>\n",
       "      <td>4846.00</td>\n",
       "      <td>10</td>\n",
       "      <td>0</td>\n",
       "      <td>2022-01-28 00:00:00.0</td>\n",
       "      <td>NaN</td>\n",
       "    </tr>\n",
       "    <tr>\n",
       "      <th>20423</th>\n",
       "      <td>0</td>\n",
       "      <td>3106</td>\n",
       "      <td>NaN</td>\n",
       "      <td>2022-01-28 00:00:00.0</td>\n",
       "      <td>CONVENIENCE STORE WITH COOKING (NO LIQUOR, NO ...</td>\n",
       "      <td>7581</td>\n",
       "      <td>AO</td>\n",
       "      <td>141</td>\n",
       "      <td>NaN</td>\n",
       "      <td>NaN</td>\n",
       "      <td>...</td>\n",
       "      <td>CHEROKEE</td>\n",
       "      <td>0</td>\n",
       "      <td>0</td>\n",
       "      <td>0</td>\n",
       "      <td>ST</td>\n",
       "      <td>1580.00</td>\n",
       "      <td>145</td>\n",
       "      <td></td>\n",
       "      <td>2022-01-28 00:00:00.0</td>\n",
       "      <td>NaN</td>\n",
       "    </tr>\n",
       "    <tr>\n",
       "      <th>20424</th>\n",
       "      <td>0</td>\n",
       "      <td>4759</td>\n",
       "      <td>NaN</td>\n",
       "      <td>2022-01-28 00:00:00.0</td>\n",
       "      <td>REPAIR AND SERVICE</td>\n",
       "      <td>7582</td>\n",
       "      <td>AO</td>\n",
       "      <td>101</td>\n",
       "      <td>NaN</td>\n",
       "      <td>NaN</td>\n",
       "      <td>...</td>\n",
       "      <td>NEBRASKA</td>\n",
       "      <td>0</td>\n",
       "      <td>0</td>\n",
       "      <td>0</td>\n",
       "      <td>AV</td>\n",
       "      <td>2757.00</td>\n",
       "      <td>310</td>\n",
       "      <td>1</td>\n",
       "      <td>2022-01-28 00:00:00.0</td>\n",
       "      <td>NaN</td>\n",
       "    </tr>\n",
       "    <tr>\n",
       "      <th>20425</th>\n",
       "      <td>0</td>\n",
       "      <td>5443</td>\n",
       "      <td>NaN</td>\n",
       "      <td>2022-01-28 00:00:00.0</td>\n",
       "      <td>(OFFICE USE ONLY)</td>\n",
       "      <td>7583</td>\n",
       "      <td>AO</td>\n",
       "      <td>103</td>\n",
       "      <td>NaN</td>\n",
       "      <td>NaN</td>\n",
       "      <td>...</td>\n",
       "      <td>ALABAMA</td>\n",
       "      <td>0</td>\n",
       "      <td>0</td>\n",
       "      <td>0</td>\n",
       "      <td>NaN</td>\n",
       "      <td>2850.00</td>\n",
       "      <td>150</td>\n",
       "      <td></td>\n",
       "      <td>2022-01-28 00:00:00.0</td>\n",
       "      <td>NaN</td>\n",
       "    </tr>\n",
       "  </tbody>\n",
       "</table>\n",
       "<p>20426 rows × 63 columns</p>\n",
       "</div>"
      ],
      "text/plain": [
       "       ADDRADJUSTED  ADDRNUM ADDRSUF                APPDATE  \\\n",
       "0                 0     8459          2012-01-03 00:00:00.0   \n",
       "1                 0     2847          2012-01-03 00:00:00.0   \n",
       "2                 0     2218          2012-01-04 00:00:00.0   \n",
       "3                 0     3270          2012-01-04 00:00:00.0   \n",
       "4                 0     3010          2012-01-04 00:00:00.0   \n",
       "...             ...      ...     ...                    ...   \n",
       "20421             0     1401     NaN  2022-01-28 00:00:00.0   \n",
       "20422             0      826     NaN  2022-01-28 00:00:00.0   \n",
       "20423             0     3106     NaN  2022-01-28 00:00:00.0   \n",
       "20424             0     4759     NaN  2022-01-28 00:00:00.0   \n",
       "20425             0     5443     NaN  2022-01-28 00:00:00.0   \n",
       "\n",
       "                                          APPDESCRIPTION  APPNUM APPTYPE  \\\n",
       "0                            SINGLE FAMILY ( SECTION 8 )  495427      AO   \n",
       "1                       BOOKSTORE 1ST FL , 2ND FL OFFICE  495437      AO   \n",
       "2                        WEB DESIGN & DEVELOPMENT OFFICE  495445      AO   \n",
       "3                  OFFICE SPACE (REAL ESTATE)  SUITE 100  495446      AO   \n",
       "4                                  OFFICE SPACE -STE 100  495448      AO   \n",
       "...                                                  ...     ...     ...   \n",
       "20421                                             CHURCH    7579      AO   \n",
       "20422            OFFICE SPACE USED FOR HOME HEALTH CARE.    7580      AO   \n",
       "20423  CONVENIENCE STORE WITH COOKING (NO LIQUOR, NO ...    7581      AO   \n",
       "20424                                 REPAIR AND SERVICE    7582      AO   \n",
       "20425                                  (OFFICE USE ONLY)    7583      AO   \n",
       "\n",
       "       ASRNBRHD CANCELDATE CANCELTYPE  ...        STNAME STRUCTYPE1  \\\n",
       "0           334        NaN        NaN  ...       CONCORD          1   \n",
       "1           142        NaN        NaN  ...      CHEROKEE         20   \n",
       "2           146        NaN        NaN  ...      CHEROKEE         20   \n",
       "3           119        NaN        NaN  ...       HAMPTON         20   \n",
       "4           255        NaN        NaN  ...        LOCUST         20   \n",
       "...         ...        ...        ...  ...           ...        ...   \n",
       "20421       238        NaN        NaN  ...  KINGSHIGHWAY          0   \n",
       "20422       238        NaN        NaN  ...         UNION          0   \n",
       "20423       141        NaN        NaN  ...      CHEROKEE          0   \n",
       "20424       101        NaN        NaN  ...      NEBRASKA          0   \n",
       "20425       103        NaN        NaN  ...       ALABAMA          0   \n",
       "\n",
       "      STRUCTYPE2 STRUCTYPE3 STTYPE  TMPCITYBLOCK  TMPPARCEL  UNITNUM  \\\n",
       "0              0          0     PL       5636.00        270            \n",
       "1              0          0     ST       1510.00        390            \n",
       "2              0          0     ST       1558.00        306            \n",
       "3              0          0     AV       4757.03         35            \n",
       "4              0          0     ST       1021.03       8062            \n",
       "...          ...        ...    ...           ...        ...      ...   \n",
       "20421          0          0   BLVD       3789.00        260            \n",
       "20422          0          0   BLVD       4846.00         10        0   \n",
       "20423          0          0     ST       1580.00        145            \n",
       "20424          0          0     AV       2757.00        310        1   \n",
       "20425          0          0    NaN       2850.00        150            \n",
       "\n",
       "                   UPDATEGEO WARD00  \n",
       "0                        NaN    NaN  \n",
       "1                        NaN    NaN  \n",
       "2                        NaN    NaN  \n",
       "3                        NaN    NaN  \n",
       "4                        NaN    NaN  \n",
       "...                      ...    ...  \n",
       "20421  2022-01-28 00:00:00.0    NaN  \n",
       "20422  2022-01-28 00:00:00.0    NaN  \n",
       "20423  2022-01-28 00:00:00.0    NaN  \n",
       "20424  2022-01-28 00:00:00.0    NaN  \n",
       "20425  2022-01-28 00:00:00.0    NaN  \n",
       "\n",
       "[20426 rows x 63 columns]"
      ]
     },
     "execution_count": 172,
     "metadata": {},
     "output_type": "execute_result"
    }
   ],
   "source": [
    "#Wait a minute. Why don't I combine all the years? Duh moment. \n",
    "\n",
    "occ = pd.concat([twelve, thirteen, fourteen, fifteen, sixteen, seventeen, eighteen, nineteen, twenty, twentyone, twentytwo]).reset_index(drop=True)\n",
    "occ"
   ]
  },
  {
   "cell_type": "markdown",
   "metadata": {
    "azdata_cell_guid": "d45060f3-97bc-484a-9ef4-66145bbe9427"
   },
   "source": [
    "## Visualize\n",
    "\n",
    "Create any visualizations for your EDA here. Make note in the form of code comments of what your thought process is for your visualizations."
   ]
  },
  {
   "cell_type": "code",
   "execution_count": 193,
   "metadata": {},
   "outputs": [
    {
     "name": "stdout",
     "output_type": "stream",
     "text": [
      "<class 'str'>\n"
     ]
    }
   ],
   "source": [
    "#I had a lot of trouble here. The error I received initialy was \"No data to plot\" or something similar. \n",
    "#After concatenating all the years together, I received \n",
    "#\"DataFrame constructor not properly called!\"\n",
    "#I checked type and discovered I'm using a string and needed to convert to an integer. \n",
    "\n",
    "print(type('APPNUM'))"
   ]
  },
  {
   "cell_type": "code",
   "execution_count": 215,
   "metadata": {},
   "outputs": [
    {
     "ename": "ValueError",
     "evalue": "could not convert string to float: 'APPNUM'",
     "output_type": "error",
     "traceback": [
      "\u001b[1;31m---------------------------------------------------------------------------\u001b[0m",
      "\u001b[1;31mValueError\u001b[0m                                Traceback (most recent call last)",
      "\u001b[1;32m<ipython-input-215-b2743933da3c>\u001b[0m in \u001b[0;36m<module>\u001b[1;34m\u001b[0m\n\u001b[1;32m----> 1\u001b[1;33m \u001b[0mAppNum\u001b[0m \u001b[1;33m=\u001b[0m \u001b[0mint\u001b[0m\u001b[1;33m(\u001b[0m\u001b[0mfloat\u001b[0m\u001b[1;33m(\u001b[0m\u001b[1;34m'APPNUM'\u001b[0m\u001b[1;33m)\u001b[0m\u001b[1;33m)\u001b[0m\u001b[1;33m\u001b[0m\u001b[1;33m\u001b[0m\u001b[0m\n\u001b[0m",
      "\u001b[1;31mValueError\u001b[0m: could not convert string to float: 'APPNUM'"
     ]
    }
   ],
   "source": [
    "AppNum = int(float('APPNUM'))"
   ]
  },
  {
   "cell_type": "code",
   "execution_count": 209,
   "metadata": {
    "azdata_cell_guid": "f4565b03-759a-47a8-b58f-01b32a0b4b67"
   },
   "outputs": [
    {
     "name": "stderr",
     "output_type": "stream",
     "text": [
      "<>:1: SyntaxWarning: 'str' object is not callable; perhaps you missed a comma?\n",
      "<>:1: SyntaxWarning: 'str' object is not callable; perhaps you missed a comma?\n",
      "<ipython-input-209-76d6e13f3c5c>:1: SyntaxWarning: 'str' object is not callable; perhaps you missed a comma?\n",
      "  occ=pd.DataFrame(list(\"APPNUM\"()),columns=['col1','col2'])\n"
     ]
    },
    {
     "ename": "TypeError",
     "evalue": "'str' object is not callable",
     "output_type": "error",
     "traceback": [
      "\u001b[1;31m---------------------------------------------------------------------------\u001b[0m",
      "\u001b[1;31mTypeError\u001b[0m                                 Traceback (most recent call last)",
      "\u001b[1;32m<ipython-input-209-76d6e13f3c5c>\u001b[0m in \u001b[0;36m<module>\u001b[1;34m\u001b[0m\n\u001b[1;32m----> 1\u001b[1;33m \u001b[0mocc\u001b[0m\u001b[1;33m=\u001b[0m\u001b[0mpd\u001b[0m\u001b[1;33m.\u001b[0m\u001b[0mDataFrame\u001b[0m\u001b[1;33m(\u001b[0m\u001b[0mlist\u001b[0m\u001b[1;33m(\u001b[0m\u001b[1;34m\"APPNUM\"\u001b[0m\u001b[1;33m(\u001b[0m\u001b[1;33m)\u001b[0m\u001b[1;33m)\u001b[0m\u001b[1;33m,\u001b[0m\u001b[0mcolumns\u001b[0m\u001b[1;33m=\u001b[0m\u001b[1;33m[\u001b[0m\u001b[1;34m'col1'\u001b[0m\u001b[1;33m,\u001b[0m\u001b[1;34m'col2'\u001b[0m\u001b[1;33m]\u001b[0m\u001b[1;33m)\u001b[0m\u001b[1;33m\u001b[0m\u001b[1;33m\u001b[0m\u001b[0m\n\u001b[0m\u001b[0;32m      2\u001b[0m \u001b[1;31m#occ_tot = pd.DataFrame(occ.loc[:,\"APPNUM\"].sum())\u001b[0m\u001b[1;33m\u001b[0m\u001b[1;33m\u001b[0m\u001b[1;33m\u001b[0m\u001b[0m\n\u001b[0;32m      3\u001b[0m \u001b[0mocc_tot\u001b[0m\u001b[1;33m.\u001b[0m\u001b[0mrename\u001b[0m\u001b[1;33m(\u001b[0m\u001b[0mcolumns\u001b[0m \u001b[1;33m=\u001b[0m \u001b[1;33m{\u001b[0m\u001b[1;36m0\u001b[0m\u001b[1;33m:\u001b[0m\u001b[1;34m'total'\u001b[0m\u001b[1;33m}\u001b[0m\u001b[1;33m,\u001b[0m \u001b[0minplace\u001b[0m \u001b[1;33m=\u001b[0m \u001b[1;32mTrue\u001b[0m\u001b[1;33m)\u001b[0m\u001b[1;33m\u001b[0m\u001b[1;33m\u001b[0m\u001b[0m\n\u001b[0;32m      4\u001b[0m \u001b[1;33m\u001b[0m\u001b[0m\n\u001b[0;32m      5\u001b[0m \u001b[0mtwelve_tot\u001b[0m\u001b[1;33m.\u001b[0m\u001b[0mplot\u001b[0m\u001b[1;33m(\u001b[0m\u001b[0mkind\u001b[0m \u001b[1;33m=\u001b[0m \u001b[1;34m'bar'\u001b[0m\u001b[1;33m,\u001b[0m \u001b[0mlegend\u001b[0m \u001b[1;33m=\u001b[0m \u001b[1;32mFalse\u001b[0m\u001b[1;33m)\u001b[0m\u001b[1;33m\u001b[0m\u001b[1;33m\u001b[0m\u001b[0m\n",
      "\u001b[1;31mTypeError\u001b[0m: 'str' object is not callable"
     ]
    }
   ],
   "source": [
    "\n",
    "\n",
    "occ=pd.DataFrame(list(\"APPNUM\"()),columns=['col1','col2'])\n",
    "#occ_tot = pd.DataFrame(occ.loc[:,\"APPNUM\"].sum())\n",
    "occ_tot.rename(columns = {0:'total'}, inplace = True)\n",
    "\n",
    "twelve_tot.plot(kind = 'bar', legend = False)\n",
    "plt.title('Occupancy Permits Issued 2012-2022',color = 'black')\n",
    "plt.xticks(color = 'black')\n",
    "plt.yticks(color = 'black')\n",
    "plt.xlabel('Year',color = 'black')\n",
    "plt.ylabel('Number Issued',color = 'black')\n",
    "plt.savefig('bar_vertical.png')\n",
    "\n",
    "plt.show()\n"
   ]
  },
  {
   "cell_type": "code",
   "execution_count": 219,
   "metadata": {},
   "outputs": [
    {
     "ename": "KeyError",
     "evalue": "\"None of [Index(['APPDESCRIPTION'], dtype='object')] are in the [index]\"",
     "output_type": "error",
     "traceback": [
      "\u001b[1;31m---------------------------------------------------------------------------\u001b[0m",
      "\u001b[1;31mKeyError\u001b[0m                                  Traceback (most recent call last)",
      "\u001b[1;32m<ipython-input-219-2d8afd950eeb>\u001b[0m in \u001b[0;36m<module>\u001b[1;34m\u001b[0m\n\u001b[0;32m      1\u001b[0m \u001b[0myear\u001b[0m \u001b[1;33m=\u001b[0m \u001b[0mlist\u001b[0m\u001b[1;33m(\u001b[0m\u001b[0mmap\u001b[0m\u001b[1;33m(\u001b[0m\u001b[0mstr\u001b[0m\u001b[1;33m,\u001b[0m \u001b[1;33m(\u001b[0m\u001b[1;36m2012\u001b[0m\u001b[1;33m,\u001b[0m\u001b[1;36m2013\u001b[0m\u001b[1;33m,\u001b[0m\u001b[1;36m2014\u001b[0m\u001b[1;33m,\u001b[0m\u001b[1;36m2015\u001b[0m\u001b[1;33m,\u001b[0m \u001b[1;36m2016\u001b[0m\u001b[1;33m)\u001b[0m\u001b[1;33m)\u001b[0m\u001b[1;33m)\u001b[0m\u001b[1;33m\u001b[0m\u001b[1;33m\u001b[0m\u001b[0m\n\u001b[1;32m----> 2\u001b[1;33m \u001b[0mocc\u001b[0m \u001b[1;33m=\u001b[0m \u001b[0mpd\u001b[0m\u001b[1;33m.\u001b[0m\u001b[0mDataFrame\u001b[0m\u001b[1;33m(\u001b[0m\u001b[0mocc\u001b[0m\u001b[1;33m.\u001b[0m\u001b[0mloc\u001b[0m\u001b[1;33m[\u001b[0m\u001b[1;33m[\u001b[0m\u001b[1;34m'APPDESCRIPTION'\u001b[0m\u001b[1;33m]\u001b[0m\u001b[1;33m,\u001b[0m\u001b[0myear\u001b[0m\u001b[1;33m]\u001b[0m\u001b[1;33m.\u001b[0m\u001b[0mT\u001b[0m\u001b[1;33m)\u001b[0m\u001b[1;33m\u001b[0m\u001b[1;33m\u001b[0m\u001b[0m\n\u001b[0m\u001b[0;32m      3\u001b[0m \u001b[1;33m\u001b[0m\u001b[0m\n\u001b[0;32m      4\u001b[0m \u001b[0mdf_group\u001b[0m\u001b[1;33m.\u001b[0m\u001b[0mplot\u001b[0m\u001b[1;33m.\u001b[0m\u001b[0mbar\u001b[0m\u001b[1;33m(\u001b[0m\u001b[0medgecolor\u001b[0m \u001b[1;33m=\u001b[0m \u001b[1;34m'white'\u001b[0m\u001b[1;33m)\u001b[0m\u001b[1;33m\u001b[0m\u001b[1;33m\u001b[0m\u001b[0m\n\u001b[0;32m      5\u001b[0m \u001b[0mplt\u001b[0m\u001b[1;33m.\u001b[0m\u001b[0mtitle\u001b[0m\u001b[1;33m(\u001b[0m\u001b[1;34m'Occupancy Permits Issued 2012-2022'\u001b[0m\u001b[1;33m,\u001b[0m\u001b[0mcolor\u001b[0m \u001b[1;33m=\u001b[0m \u001b[1;34m'black'\u001b[0m\u001b[1;33m)\u001b[0m\u001b[1;33m\u001b[0m\u001b[1;33m\u001b[0m\u001b[0m\n",
      "\u001b[1;32m~\\anaconda3\\lib\\site-packages\\pandas\\core\\indexing.py\u001b[0m in \u001b[0;36m__getitem__\u001b[1;34m(self, key)\u001b[0m\n\u001b[0;32m    887\u001b[0m                     \u001b[1;31m# AttributeError for IntervalTree get_value\u001b[0m\u001b[1;33m\u001b[0m\u001b[1;33m\u001b[0m\u001b[1;33m\u001b[0m\u001b[0m\n\u001b[0;32m    888\u001b[0m                     \u001b[1;32mreturn\u001b[0m \u001b[0mself\u001b[0m\u001b[1;33m.\u001b[0m\u001b[0mobj\u001b[0m\u001b[1;33m.\u001b[0m\u001b[0m_get_value\u001b[0m\u001b[1;33m(\u001b[0m\u001b[1;33m*\u001b[0m\u001b[0mkey\u001b[0m\u001b[1;33m,\u001b[0m \u001b[0mtakeable\u001b[0m\u001b[1;33m=\u001b[0m\u001b[0mself\u001b[0m\u001b[1;33m.\u001b[0m\u001b[0m_takeable\u001b[0m\u001b[1;33m)\u001b[0m\u001b[1;33m\u001b[0m\u001b[1;33m\u001b[0m\u001b[0m\n\u001b[1;32m--> 889\u001b[1;33m             \u001b[1;32mreturn\u001b[0m \u001b[0mself\u001b[0m\u001b[1;33m.\u001b[0m\u001b[0m_getitem_tuple\u001b[0m\u001b[1;33m(\u001b[0m\u001b[0mkey\u001b[0m\u001b[1;33m)\u001b[0m\u001b[1;33m\u001b[0m\u001b[1;33m\u001b[0m\u001b[0m\n\u001b[0m\u001b[0;32m    890\u001b[0m         \u001b[1;32melse\u001b[0m\u001b[1;33m:\u001b[0m\u001b[1;33m\u001b[0m\u001b[1;33m\u001b[0m\u001b[0m\n\u001b[0;32m    891\u001b[0m             \u001b[1;31m# we by definition only have the 0th axis\u001b[0m\u001b[1;33m\u001b[0m\u001b[1;33m\u001b[0m\u001b[1;33m\u001b[0m\u001b[0m\n",
      "\u001b[1;32m~\\anaconda3\\lib\\site-packages\\pandas\\core\\indexing.py\u001b[0m in \u001b[0;36m_getitem_tuple\u001b[1;34m(self, tup)\u001b[0m\n\u001b[0;32m   1065\u001b[0m         \u001b[1;31m# ugly hack for GH #836\u001b[0m\u001b[1;33m\u001b[0m\u001b[1;33m\u001b[0m\u001b[1;33m\u001b[0m\u001b[0m\n\u001b[0;32m   1066\u001b[0m         \u001b[1;32mif\u001b[0m \u001b[0mself\u001b[0m\u001b[1;33m.\u001b[0m\u001b[0m_multi_take_opportunity\u001b[0m\u001b[1;33m(\u001b[0m\u001b[0mtup\u001b[0m\u001b[1;33m)\u001b[0m\u001b[1;33m:\u001b[0m\u001b[1;33m\u001b[0m\u001b[1;33m\u001b[0m\u001b[0m\n\u001b[1;32m-> 1067\u001b[1;33m             \u001b[1;32mreturn\u001b[0m \u001b[0mself\u001b[0m\u001b[1;33m.\u001b[0m\u001b[0m_multi_take\u001b[0m\u001b[1;33m(\u001b[0m\u001b[0mtup\u001b[0m\u001b[1;33m)\u001b[0m\u001b[1;33m\u001b[0m\u001b[1;33m\u001b[0m\u001b[0m\n\u001b[0m\u001b[0;32m   1068\u001b[0m \u001b[1;33m\u001b[0m\u001b[0m\n\u001b[0;32m   1069\u001b[0m         \u001b[1;32mreturn\u001b[0m \u001b[0mself\u001b[0m\u001b[1;33m.\u001b[0m\u001b[0m_getitem_tuple_same_dim\u001b[0m\u001b[1;33m(\u001b[0m\u001b[0mtup\u001b[0m\u001b[1;33m)\u001b[0m\u001b[1;33m\u001b[0m\u001b[1;33m\u001b[0m\u001b[0m\n",
      "\u001b[1;32m~\\anaconda3\\lib\\site-packages\\pandas\\core\\indexing.py\u001b[0m in \u001b[0;36m_multi_take\u001b[1;34m(self, tup)\u001b[0m\n\u001b[0;32m   1017\u001b[0m         \"\"\"\n\u001b[0;32m   1018\u001b[0m         \u001b[1;31m# GH 836\u001b[0m\u001b[1;33m\u001b[0m\u001b[1;33m\u001b[0m\u001b[1;33m\u001b[0m\u001b[0m\n\u001b[1;32m-> 1019\u001b[1;33m         d = {\n\u001b[0m\u001b[0;32m   1020\u001b[0m             \u001b[0maxis\u001b[0m\u001b[1;33m:\u001b[0m \u001b[0mself\u001b[0m\u001b[1;33m.\u001b[0m\u001b[0m_get_listlike_indexer\u001b[0m\u001b[1;33m(\u001b[0m\u001b[0mkey\u001b[0m\u001b[1;33m,\u001b[0m \u001b[0maxis\u001b[0m\u001b[1;33m)\u001b[0m\u001b[1;33m\u001b[0m\u001b[1;33m\u001b[0m\u001b[0m\n\u001b[0;32m   1021\u001b[0m             \u001b[1;32mfor\u001b[0m \u001b[1;33m(\u001b[0m\u001b[0mkey\u001b[0m\u001b[1;33m,\u001b[0m \u001b[0maxis\u001b[0m\u001b[1;33m)\u001b[0m \u001b[1;32min\u001b[0m \u001b[0mzip\u001b[0m\u001b[1;33m(\u001b[0m\u001b[0mtup\u001b[0m\u001b[1;33m,\u001b[0m \u001b[0mself\u001b[0m\u001b[1;33m.\u001b[0m\u001b[0mobj\u001b[0m\u001b[1;33m.\u001b[0m\u001b[0m_AXIS_ORDERS\u001b[0m\u001b[1;33m)\u001b[0m\u001b[1;33m\u001b[0m\u001b[1;33m\u001b[0m\u001b[0m\n",
      "\u001b[1;32m~\\anaconda3\\lib\\site-packages\\pandas\\core\\indexing.py\u001b[0m in \u001b[0;36m<dictcomp>\u001b[1;34m(.0)\u001b[0m\n\u001b[0;32m   1018\u001b[0m         \u001b[1;31m# GH 836\u001b[0m\u001b[1;33m\u001b[0m\u001b[1;33m\u001b[0m\u001b[1;33m\u001b[0m\u001b[0m\n\u001b[0;32m   1019\u001b[0m         d = {\n\u001b[1;32m-> 1020\u001b[1;33m             \u001b[0maxis\u001b[0m\u001b[1;33m:\u001b[0m \u001b[0mself\u001b[0m\u001b[1;33m.\u001b[0m\u001b[0m_get_listlike_indexer\u001b[0m\u001b[1;33m(\u001b[0m\u001b[0mkey\u001b[0m\u001b[1;33m,\u001b[0m \u001b[0maxis\u001b[0m\u001b[1;33m)\u001b[0m\u001b[1;33m\u001b[0m\u001b[1;33m\u001b[0m\u001b[0m\n\u001b[0m\u001b[0;32m   1021\u001b[0m             \u001b[1;32mfor\u001b[0m \u001b[1;33m(\u001b[0m\u001b[0mkey\u001b[0m\u001b[1;33m,\u001b[0m \u001b[0maxis\u001b[0m\u001b[1;33m)\u001b[0m \u001b[1;32min\u001b[0m \u001b[0mzip\u001b[0m\u001b[1;33m(\u001b[0m\u001b[0mtup\u001b[0m\u001b[1;33m,\u001b[0m \u001b[0mself\u001b[0m\u001b[1;33m.\u001b[0m\u001b[0mobj\u001b[0m\u001b[1;33m.\u001b[0m\u001b[0m_AXIS_ORDERS\u001b[0m\u001b[1;33m)\u001b[0m\u001b[1;33m\u001b[0m\u001b[1;33m\u001b[0m\u001b[0m\n\u001b[0;32m   1022\u001b[0m         }\n",
      "\u001b[1;32m~\\anaconda3\\lib\\site-packages\\pandas\\core\\indexing.py\u001b[0m in \u001b[0;36m_get_listlike_indexer\u001b[1;34m(self, key, axis, raise_missing)\u001b[0m\n\u001b[0;32m   1264\u001b[0m             \u001b[0mkeyarr\u001b[0m\u001b[1;33m,\u001b[0m \u001b[0mindexer\u001b[0m\u001b[1;33m,\u001b[0m \u001b[0mnew_indexer\u001b[0m \u001b[1;33m=\u001b[0m \u001b[0max\u001b[0m\u001b[1;33m.\u001b[0m\u001b[0m_reindex_non_unique\u001b[0m\u001b[1;33m(\u001b[0m\u001b[0mkeyarr\u001b[0m\u001b[1;33m)\u001b[0m\u001b[1;33m\u001b[0m\u001b[1;33m\u001b[0m\u001b[0m\n\u001b[0;32m   1265\u001b[0m \u001b[1;33m\u001b[0m\u001b[0m\n\u001b[1;32m-> 1266\u001b[1;33m         \u001b[0mself\u001b[0m\u001b[1;33m.\u001b[0m\u001b[0m_validate_read_indexer\u001b[0m\u001b[1;33m(\u001b[0m\u001b[0mkeyarr\u001b[0m\u001b[1;33m,\u001b[0m \u001b[0mindexer\u001b[0m\u001b[1;33m,\u001b[0m \u001b[0maxis\u001b[0m\u001b[1;33m,\u001b[0m \u001b[0mraise_missing\u001b[0m\u001b[1;33m=\u001b[0m\u001b[0mraise_missing\u001b[0m\u001b[1;33m)\u001b[0m\u001b[1;33m\u001b[0m\u001b[1;33m\u001b[0m\u001b[0m\n\u001b[0m\u001b[0;32m   1267\u001b[0m         \u001b[1;32mreturn\u001b[0m \u001b[0mkeyarr\u001b[0m\u001b[1;33m,\u001b[0m \u001b[0mindexer\u001b[0m\u001b[1;33m\u001b[0m\u001b[1;33m\u001b[0m\u001b[0m\n\u001b[0;32m   1268\u001b[0m \u001b[1;33m\u001b[0m\u001b[0m\n",
      "\u001b[1;32m~\\anaconda3\\lib\\site-packages\\pandas\\core\\indexing.py\u001b[0m in \u001b[0;36m_validate_read_indexer\u001b[1;34m(self, key, indexer, axis, raise_missing)\u001b[0m\n\u001b[0;32m   1306\u001b[0m             \u001b[1;32mif\u001b[0m \u001b[0mmissing\u001b[0m \u001b[1;33m==\u001b[0m \u001b[0mlen\u001b[0m\u001b[1;33m(\u001b[0m\u001b[0mindexer\u001b[0m\u001b[1;33m)\u001b[0m\u001b[1;33m:\u001b[0m\u001b[1;33m\u001b[0m\u001b[1;33m\u001b[0m\u001b[0m\n\u001b[0;32m   1307\u001b[0m                 \u001b[0maxis_name\u001b[0m \u001b[1;33m=\u001b[0m \u001b[0mself\u001b[0m\u001b[1;33m.\u001b[0m\u001b[0mobj\u001b[0m\u001b[1;33m.\u001b[0m\u001b[0m_get_axis_name\u001b[0m\u001b[1;33m(\u001b[0m\u001b[0maxis\u001b[0m\u001b[1;33m)\u001b[0m\u001b[1;33m\u001b[0m\u001b[1;33m\u001b[0m\u001b[0m\n\u001b[1;32m-> 1308\u001b[1;33m                 \u001b[1;32mraise\u001b[0m \u001b[0mKeyError\u001b[0m\u001b[1;33m(\u001b[0m\u001b[1;34mf\"None of [{key}] are in the [{axis_name}]\"\u001b[0m\u001b[1;33m)\u001b[0m\u001b[1;33m\u001b[0m\u001b[1;33m\u001b[0m\u001b[0m\n\u001b[0m\u001b[0;32m   1309\u001b[0m \u001b[1;33m\u001b[0m\u001b[0m\n\u001b[0;32m   1310\u001b[0m             \u001b[0max\u001b[0m \u001b[1;33m=\u001b[0m \u001b[0mself\u001b[0m\u001b[1;33m.\u001b[0m\u001b[0mobj\u001b[0m\u001b[1;33m.\u001b[0m\u001b[0m_get_axis\u001b[0m\u001b[1;33m(\u001b[0m\u001b[0maxis\u001b[0m\u001b[1;33m)\u001b[0m\u001b[1;33m\u001b[0m\u001b[1;33m\u001b[0m\u001b[0m\n",
      "\u001b[1;31mKeyError\u001b[0m: \"None of [Index(['APPDESCRIPTION'], dtype='object')] are in the [index]\""
     ]
    }
   ],
   "source": [
    "year = list(map(str, (2012,2013,2014,2015, 2016)))\n",
    "occ = pd.DataFrame(occ.loc[['APPDESCRIPTION'],year].T)\n",
    "\n",
    "df_group.plot.bar(edgecolor = 'white')\n",
    "plt.title('Occupancy Permits Issued 2012-2022',color = 'black')\n",
    "plt.xticks(color = 'black')\n",
    "plt.yticks(color = 'black')\n",
    "plt.xlabel('Year',color = 'black')\n",
    "plt.ylabel('Number Issued',color = 'black')\n",
    "plt.legend(title = 'Type', fontsize = 12)\n",
    "plt.savefig('bar_grouped.png')\n",
    "\n",
    "plt.show()"
   ]
  },
  {
   "cell_type": "markdown",
   "metadata": {
    "azdata_cell_guid": "d4931c0c-2c09-4ee1-95d4-73dd08c2f0a6"
   },
   "source": [
    "## Summarize Your Results\n",
    "\n",
    "With your EDA complete, answer the following questions.\n",
    "\n",
    "1. Was there anything surprising about your dataset? \n",
    "2. Do you have any concerns about your dataset? \n",
    "3. Is there anything you want to make note of for the next phase of your analysis, which is cleaning data? "
   ]
  },
  {
   "cell_type": "code",
   "execution_count": 174,
   "metadata": {},
   "outputs": [],
   "source": [
    "#1. Some of the labels on columns are not as descriptive as I would like for my questions. \n",
    "#I also feel there may be missing data.\n",
    "\n",
    "#2. I am wondering if I have access to all the data I need to answer the questions I am posing. \n",
    "#At the same time, I'm feeling overwhelmed that I may be sifting through too many sources.\n",
    "\n",
    "#3. Relabeling some columns may be necessary."
   ]
  }
 ],
 "metadata": {
  "kernelspec": {
   "display_name": "Python 3",
   "language": "python",
   "name": "python3"
  },
  "language_info": {
   "codemirror_mode": {
    "name": "ipython",
    "version": 3
   },
   "file_extension": ".py",
   "mimetype": "text/x-python",
   "name": "python",
   "nbconvert_exporter": "python",
   "pygments_lexer": "ipython3",
   "version": "3.8.8"
  }
 },
 "nbformat": 4,
 "nbformat_minor": 2
}
